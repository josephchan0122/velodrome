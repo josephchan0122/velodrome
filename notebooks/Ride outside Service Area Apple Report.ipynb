{
 "cells": [
  {
   "cell_type": "code",
   "execution_count": 1,
   "metadata": {
    "collapsed": true
   },
   "outputs": [],
   "source": [
    "import csv\n",
    "import datetime as dt\n",
    "\n",
    "from humanize import naturaldelta\n",
    "from pytz import timezone\n",
    "import pytz\n",
    "utc = pytz.utc\n",
    "pacific = timezone('US/Pacific')"
   ]
  },
  {
   "cell_type": "code",
   "execution_count": null,
   "metadata": {
    "collapsed": true
   },
   "outputs": [],
   "source": [
    "with open('apple-oosa.csv', 'w') as of:\n",
    "    writer = csv.writer(of, delimiter=',', quoting=csv.QUOTE_MINIMAL)\n",
    "    writer.writerow([\"Bike's name\", 'Alert Started', 'Alert Stopped', 'Duration', \"Renter's email\"])\n",
    "    for alert in (Alert.objects.filter(alert_type=Alert.RIDE_OUTSIDE_SERVICE_AREA,\n",
    "                                       organization__id=15,\n",
    "                                       created__gte=utc.localize(dt.datetime(2017, 6, 20, 0, 0, 0)))\n",
    "                                .annotate(duration_outside=F('modified') - F('created'))\n",
    "                                .order_by('-duration_outside', 'bicycles__name')):\n",
    "        user = alert.causality.rental_sessions.filter(modified__lt=alert.created, state='closed').latest().user\n",
    "        writer.writerow((alert.causality.name,\n",
    "                         alert.created.astimezone(pacific).isoformat(),\n",
    "                         alert.modified.astimezone(pacific).isoformat(),\n",
    "                         naturaldelta(alert.duration_outside),\n",
    "                         user.email))\n",
    "              "
   ]
  },
  {
   "cell_type": "code",
   "execution_count": null,
   "metadata": {
    "collapsed": true
   },
   "outputs": [],
   "source": []
  }
 ],
 "metadata": {
  "kernelspec": {
   "display_name": "Django Shell-Plus",
   "language": "python",
   "name": "django_extensions"
  },
  "language_info": {
   "codemirror_mode": {
    "name": "ipython",
    "version": 3
   },
   "file_extension": ".py",
   "mimetype": "text/x-python",
   "name": "python",
   "nbconvert_exporter": "python",
   "pygments_lexer": "ipython3",
   "version": "3.6.1"
  }
 },
 "nbformat": 4,
 "nbformat_minor": 2
}
